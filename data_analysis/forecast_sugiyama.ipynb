{
 "cells": [
  {
   "cell_type": "code",
   "execution_count": 1,
   "id": "b3a997e1",
   "metadata": {},
   "outputs": [],
   "source": [
    "import pandas as pd\n",
    "import numpy as np\n",
    "from matplotlib import pyplot as plt\n",
    "import seaborn as sns\n",
    "from lib.calmapLib import calmap, create_input\n",
    "from datetime import datetime, timedelta\n",
    "\n",
    "import xgboost as xgb\n",
    "from sklearn.metrics import mean_squared_error\n",
    "color_pal = sns.color_palette()"
   ]
  },
  {
   "cell_type": "code",
   "execution_count": 2,
   "id": "0907fe5e",
   "metadata": {},
   "outputs": [
    {
     "data": {
      "text/html": [
       "<div>\n",
       "<style scoped>\n",
       "    .dataframe tbody tr th:only-of-type {\n",
       "        vertical-align: middle;\n",
       "    }\n",
       "\n",
       "    .dataframe tbody tr th {\n",
       "        vertical-align: top;\n",
       "    }\n",
       "\n",
       "    .dataframe thead th {\n",
       "        text-align: right;\n",
       "    }\n",
       "</style>\n",
       "<table border=\"1\" class=\"dataframe\">\n",
       "  <thead>\n",
       "    <tr style=\"text-align: right;\">\n",
       "      <th></th>\n",
       "      <th>qty</th>\n",
       "    </tr>\n",
       "    <tr>\n",
       "      <th>date</th>\n",
       "      <th></th>\n",
       "    </tr>\n",
       "  </thead>\n",
       "  <tbody>\n",
       "    <tr>\n",
       "      <td>2018-04-04</td>\n",
       "      <td>41296.0</td>\n",
       "    </tr>\n",
       "    <tr>\n",
       "      <td>2018-04-05</td>\n",
       "      <td>38153.0</td>\n",
       "    </tr>\n",
       "    <tr>\n",
       "      <td>2018-04-06</td>\n",
       "      <td>33987.0</td>\n",
       "    </tr>\n",
       "    <tr>\n",
       "      <td>2018-04-07</td>\n",
       "      <td>9665.0</td>\n",
       "    </tr>\n",
       "    <tr>\n",
       "      <td>2018-04-08</td>\n",
       "      <td>0.0</td>\n",
       "    </tr>\n",
       "  </tbody>\n",
       "</table>\n",
       "</div>"
      ],
      "text/plain": [
       "                qty\n",
       "date               \n",
       "2018-04-04  41296.0\n",
       "2018-04-05  38153.0\n",
       "2018-04-06  33987.0\n",
       "2018-04-07   9665.0\n",
       "2018-04-08      0.0"
      ]
     },
     "execution_count": 2,
     "metadata": {},
     "output_type": "execute_result"
    }
   ],
   "source": [
    "df = pd.read_csv('sgym_ship.csv', encoding = 'Shift-JIS')\n",
    "df.columns = ['date','qty']\n",
    "df[\"date\"] = pd.to_datetime(df[\"date\"])\n",
    "df = df.set_index(\"date\").sort_index()\n",
    "df.head()"
   ]
  },
  {
   "cell_type": "code",
   "execution_count": null,
   "id": "95372b78",
   "metadata": {},
   "outputs": [],
   "source": [
    "df.plot(style=\".\",figsize=(20,8), color=color_pal[0])"
   ]
  },
  {
   "cell_type": "code",
   "execution_count": null,
   "id": "779e0528",
   "metadata": {},
   "outputs": [],
   "source": [
    "df.describe()"
   ]
  },
  {
   "cell_type": "markdown",
   "id": "16e93f89",
   "metadata": {},
   "source": [
    "# Analysis"
   ]
  },
  {
   "cell_type": "code",
   "execution_count": 3,
   "id": "3cd6ea51",
   "metadata": {},
   "outputs": [],
   "source": [
    "def feature_crt(df):\n",
    "    \"\"\"\n",
    "    Create date features using dataframe with date index\n",
    "    \"\"\"\n",
    "    df = df.copy()\n",
    "    df[\"year\"] = df.index.year\n",
    "    df[\"month\"] = df.index.month\n",
    "    df[\"day\"] = df.index.day\n",
    "    df[\"dow\"] = df.index.dayofweek\n",
    "    df[\"doy\"] = df.index.dayofyear\n",
    "    \n",
    "    #CUSTOM CODE FOR ADDING HOLIDAYS AS FEATURE (SEEMED TO ACTUALLY MADE PREDICTION WORSE)\n",
    "#     holidays = pd.read_csv(\"holidays.csv\")\n",
    "#     holidays[\"hld_flg\"] = 1\n",
    "#     holidays = holidays.drop(\"Year\", axis=1).set_index(\"Date\")\n",
    "    \n",
    "#     df = df.merge(holidays, how=\"left\", left_index=True, right_index=True)\n",
    "#     df[\"hld_flg\"] = df[\"hld_flg\"].fillna(0)\n",
    "\n",
    "    return df\n",
    "df_proc = feature_crt(df)"
   ]
  },
  {
   "cell_type": "code",
   "execution_count": null,
   "id": "ba839409",
   "metadata": {},
   "outputs": [],
   "source": [
    "grouped = df_proc.groupby([\"year\",\"month\"]).qty.sum()\n",
    "\n",
    "fig, axes = plt.subplots(5,1,figsize=(10,8),sharex=True)\n",
    "\n",
    "for ax, yr in zip(axes, df_proc[\"year\"].unique()):\n",
    "    ax.plot(grouped[yr], label=f\"{yr}\")\n",
    "    ax.set_xticks(range(1,13))\n",
    "    ax.set_xticklabels([i+1 for i in range(12)])\n",
    "    ax.legend()\n",
    "\n",
    "plt.show()"
   ]
  },
  {
   "cell_type": "markdown",
   "id": "5f50c517",
   "metadata": {},
   "source": [
    "Looking at the above graph, we can see that there is a common pattern of a peak in March and June, followed by another uptick in September."
   ]
  },
  {
   "cell_type": "code",
   "execution_count": null,
   "id": "abc7c475",
   "metadata": {},
   "outputs": [],
   "source": [
    "# group_by_day = df_proc.groupby(\"day\").qty.mean()\n",
    "fig, ax = plt.subplots(figsize=(10,5))\n",
    "sns.boxplot(ax=ax, data=df_proc, x=\"day\",y=\"qty\")\n",
    "plt.show()"
   ]
  },
  {
   "cell_type": "markdown",
   "id": "064ac3f1",
   "metadata": {},
   "source": [
    "There seems to be a pattern of higher demand at the beginning and end of the month"
   ]
  },
  {
   "cell_type": "code",
   "execution_count": null,
   "id": "c57052d2",
   "metadata": {},
   "outputs": [],
   "source": [
    "group_by_dow = df_proc.groupby(\"dow\").qty.mean()\n",
    "\n",
    "fig, ax = plt.subplots(figsize=(10,5))\n",
    "# ax.plot(group_by_dow, color=color_pal[2])\n",
    "sns.boxplot(ax=ax, data=df_proc, x=\"dow\",y=\"qty\")\n",
    "ax.set_xticks(range(7))\n",
    "ax.set_xticklabels([\"mon\",\"tue\",\"wed\",\"thu\",\"fri\",\"sat\",\"sun\"])\n",
    "ax.set_title(\"Average demand by day of week\")\n",
    "plt.show()"
   ]
  },
  {
   "cell_type": "markdown",
   "id": "33bc2d61",
   "metadata": {},
   "source": [
    "Looking at average demand by day of week, we see that demand is usually highest at week beginning and lower towards the weekend"
   ]
  },
  {
   "cell_type": "code",
   "execution_count": null,
   "id": "dab72ef7",
   "metadata": {},
   "outputs": [],
   "source": [
    "grouped.plot(figsize=(15,5))"
   ]
  },
  {
   "cell_type": "code",
   "execution_count": 6,
   "id": "8538b73a",
   "metadata": {},
   "outputs": [
    {
     "data": {
      "image/png": "[encoded data removed]",
      "text/plain": [
       "<Figure size 2160x1224 with 5 Axes>"
      ]
     },
     "metadata": {
      "needs_background": "light"
     },
     "output_type": "display_data"
    }
   ],
   "source": [
    "year = 2018\n",
    "fig, axes = plt.subplots(5,1,figsize=(30,17))\n",
    "for i in range(5):\n",
    "    inp_raw = df_proc[df_proc[\"year\"]==year].qty.copy()\n",
    "    inp = create_input(inp_raw,year)\n",
    "    calmap(axes[i], year, inp, col_map='BuPu')\n",
    "    year+=1"
   ]
  },
  {
   "cell_type": "markdown",
   "id": "d745501e",
   "metadata": {},
   "source": [
    "# Train Test Split"
   ]
  },
  {
   "cell_type": "code",
   "execution_count": null,
   "id": "ecf15899",
   "metadata": {},
   "outputs": [],
   "source": [
    "# Create train and test data, keeping 1 month of data for holdout\n",
    "holdout_idx = \"2022-06-01\"\n",
    "train = df.loc[df.index < \"2021-07-01\"]\n",
    "test = df.loc[(df.index >= \"2021-07-01\") & (df.index < holdout_idx)]\n",
    "holdout = df.loc[df.index >= holdout_idx]\n",
    "\n",
    "fig, ax = plt.subplots(figsize=(15,5))\n",
    "ax.plot(train, label=\"train\")\n",
    "ax.plot(test, label=\"test\")\n",
    "ax.axvline(pd.to_datetime('2021-07-01'), color=\"black\", ls=\"--\")\n",
    "ax.set_title(\"Train/Test Split\")\n",
    "plt.legend()\n",
    "plt.show()"
   ]
  },
  {
   "cell_type": "markdown",
   "id": "edea7023",
   "metadata": {},
   "source": [
    "### Create features"
   ]
  },
  {
   "cell_type": "code",
   "execution_count": null,
   "id": "efcddb1d",
   "metadata": {},
   "outputs": [],
   "source": [
    "train = feature_crt(train)\n",
    "test = feature_crt(test)\n",
    "\n",
    "FEATURES = [col for col in train if col != \"qty\"]\n",
    "TARGET = \"qty\""
   ]
  },
  {
   "cell_type": "code",
   "execution_count": null,
   "id": "6aaa977b",
   "metadata": {},
   "outputs": [],
   "source": [
    "X_train = train[FEATURES]\n",
    "y_train = train[TARGET]\n",
    "X_test = test[FEATURES]\n",
    "y_test = test[TARGET]"
   ]
  },
  {
   "cell_type": "code",
   "execution_count": null,
   "id": "5695edca",
   "metadata": {},
   "outputs": [],
   "source": [
    "holdout = feature_crt(holdout)\n",
    "X_holdout = holdout[FEATURES]\n",
    "y_holdout = holdout[TARGET]"
   ]
  },
  {
   "cell_type": "markdown",
   "id": "f32e3d99",
   "metadata": {},
   "source": [
    "# Model Creation"
   ]
  },
  {
   "cell_type": "code",
   "execution_count": null,
   "id": "f28285e4",
   "metadata": {},
   "outputs": [],
   "source": [
    "class XGBRegressorExtended(xgb.XGBRegressor):\n",
    "    \"\"\"\n",
    "    Custom Regressor class for forecasting values\n",
    "    \"\"\"\n",
    "    def predict_transform(self, xtest):\n",
    "        yt = self.predict(xtest)\n",
    "        yt[yt<0] = 0\n",
    "        return yt"
   ]
  },
  {
   "cell_type": "code",
   "execution_count": null,
   "id": "21188457",
   "metadata": {},
   "outputs": [],
   "source": [
    "# reg = xgb.XGBRegressor(n_estimators=1000, early_stopping_rounds=50, learning_rate=0.01)\n",
    "reg = XGBRegressorExtended(n_estimators=1000, early_stopping_rounds=50, learning_rate=0.01)\n",
    "reg.fit(X_train, y_train, \n",
    "       eval_set=[(X_train, y_train), (X_test, y_test)],\n",
    "       verbose=100)"
   ]
  },
  {
   "cell_type": "code",
   "execution_count": null,
   "id": "fe5e303e",
   "metadata": {},
   "outputs": [],
   "source": [
    "feat_imp = pd.DataFrame(data=reg.feature_importances_,\n",
    "             index=reg.get_booster().feature_names,\n",
    "             columns=['importance'])\n",
    "feat_imp.sort_values('importance').plot(kind='barh', title=\"Feature Importance\")\n",
    "plt.show()"
   ]
  },
  {
   "cell_type": "markdown",
   "id": "983f4056",
   "metadata": {},
   "source": [
    "# Predict on Test"
   ]
  },
  {
   "cell_type": "code",
   "execution_count": null,
   "id": "902335b2",
   "metadata": {},
   "outputs": [],
   "source": [
    "# test['prediction'] = reg.predict_transform(X_test)\n",
    "holdout['prediction'] = reg.predict_transform(X_holdout)\n",
    "# test['prediction'] = reg.predict(X_test)\n",
    "if \"prediction\" in df_proc.columns:\n",
    "    df_proc.drop(\"prediction\", axis=1, inplace=True)\n",
    "df_proc = df_proc.merge(holdout[['prediction']], how=\"left\",left_index=True,right_index=True) #2 brackets -> dataframe instead of series\n",
    "\n",
    "fig, ax = plt.subplots(figsize=(15,5))\n",
    "ax.plot(df_proc[[\"qty\"]], label=\"Truth\")\n",
    "ax.plot(df_proc[[\"prediction\"]],label=\"Prediction\")\n",
    "ax.set_title(\"Truth vs Prediction\")\n",
    "plt.show()"
   ]
  },
  {
   "cell_type": "code",
   "execution_count": null,
   "id": "7f180e44",
   "metadata": {},
   "outputs": [],
   "source": [
    "#Check for 1 month\n",
    "fig, ax = plt.subplots(figsize=(10,5))\n",
    "ax.plot(df_proc.loc[(df_proc[\"year\"]==2022) & (df_proc[\"month\"]==6)].qty, label=\"Truth\")\n",
    "ax.plot(df_proc.loc[(df_proc[\"year\"]==2022) & (df_proc[\"month\"]==6)].prediction,marker=\"o\",label=\"Prediction\")\n",
    "plt.xticks(rotation=45)\n",
    "ax.legend()\n",
    "plt.show()"
   ]
  },
  {
   "cell_type": "code",
   "execution_count": null,
   "id": "1238837d",
   "metadata": {},
   "outputs": [],
   "source": [
    "print(np.sqrt(mean_squared_error(holdout['qty'], holdout['prediction'])))\n",
    "print(holdout[\"qty\"].mean())\n",
    "\n",
    "from sklearn.metrics import mean_absolute_error as mae\n",
    "print(mae(holdout[\"qty\"], holdout[\"prediction\"]) / holdout[\"qty\"].mean())\n"
   ]
  },
  {
   "cell_type": "markdown",
   "id": "eca01612",
   "metadata": {},
   "source": [
    "# Create Lag Feature"
   ]
  },
  {
   "cell_type": "code",
   "execution_count": null,
   "id": "0a396e1d",
   "metadata": {},
   "outputs": [],
   "source": [
    "# How to create lag features\n",
    "# Decide lag: 28 days\n",
    "# Get lagged date and lagged values\n",
    "# Below is the naive way. There is a better way using Series.map below\n",
    "# df_lagged = df.copy()\n",
    "# df_lagged.index = df.index + pd.Timedelta(days=28)\n",
    "# df_lagged.rename(columns={\"qty\":\"lag_28_d\"}, inplace=True)\n",
    "# df.merge(df_lagged, how=\"left\", left_index=True, right_index=True)"
   ]
  },
  {
   "cell_type": "code",
   "execution_count": null,
   "id": "26cf6c0e",
   "metadata": {},
   "outputs": [],
   "source": [
    "def lag_features(df, val_col: str = \"qty\", lag_period: int = 28, multiplier: int = 3):\n",
    "    \"\"\"\n",
    "    Return df with lag features added\n",
    "    lag_period: lag period in days\n",
    "    multiplier: specify number of lag features to be created, which will be a multiplier of the lag_period.\n",
    "    \"\"\"\n",
    "    df_lagged = df.copy()\n",
    "    for i in range(lag_period, lag_period*(multiplier+1), lag_period):\n",
    "        if f\"lag{i}d\" in df_lagged.columns:\n",
    "            df_lagged.drop(f\"lag{i}d\", axis=1, inplace=True)\n",
    "        df_lagged[f\"lag{i}d\"] = (df.index - pd.Timedelta(f\"{i} days\")).map(df[val_col])\n",
    "    \n",
    "    return df_lagged\n"
   ]
  },
  {
   "cell_type": "code",
   "execution_count": null,
   "id": "3fbfdc7f",
   "metadata": {},
   "outputs": [],
   "source": [
    "df = lag_features(df, \"qty\")\n",
    "df.head()"
   ]
  },
  {
   "cell_type": "markdown",
   "id": "fd76aba6",
   "metadata": {},
   "source": [
    "# Test with cross validation\n"
   ]
  },
  {
   "cell_type": "code",
   "execution_count": null,
   "id": "eded49ee",
   "metadata": {},
   "outputs": [],
   "source": [
    "def ts_split(df_input, holdout_idx, fold, gap):\n",
    "    \n",
    "    df = df_input[df_input.index <= holdout_idx]\n",
    "    max_idx = len(df.index)-1\n",
    "    train_idx = [idx for idx in df.index if idx < df.index[max_idx-gap*(fold+1)]]\n",
    "    val_idx = [idx for idx in df.index if idx >= df.index[max_idx-gap*(fold+1)] and idx <= df.index[max_idx-gap*fold]]\n",
    "    \n",
    "    return train_idx, val_idx\n"
   ]
  },
  {
   "cell_type": "code",
   "execution_count": null,
   "id": "d8c174e9",
   "metadata": {},
   "outputs": [],
   "source": [
    "fig, axes = plt.subplots(5, 1, figsize=(15,15), sharex=True)\n",
    "for fold in range(5):\n",
    "    train_idx, val_idx = ts_split(df, holdout_idx, fold, gap=90)\n",
    "    train = df.loc[train_idx]\n",
    "    test = df.loc[val_idx]\n",
    "    axes[fold].plot(train[\"qty\"], label=\"Training Set\")\n",
    "    axes[fold].plot(test[\"qty\"], label=\"Test Set\")\n",
    "    axes[fold].axvline(test.index.min(), color=\"black\", ls=\"--\")\n",
    "    axes[fold].legend()\n",
    "\n",
    "plt.show()"
   ]
  },
  {
   "cell_type": "code",
   "execution_count": null,
   "id": "670a991a",
   "metadata": {},
   "outputs": [],
   "source": [
    "holdout = df.loc[df.index >= holdout_idx]\n",
    "holdout = feature_crt(holdout)\n",
    "\n",
    "preds = []\n",
    "scores_rmse = []\n",
    "scores_mae = []\n",
    "for fold in range(5):\n",
    "    train_idx, val_idx = ts_split(df, holdout_idx, fold, gap=90)\n",
    "    train_cv = df.loc[train_idx]\n",
    "    test_cv = df.loc[val_idx]\n",
    "    train_cv = feature_crt(train_cv)\n",
    "    test_cv = feature_crt(test_cv)\n",
    "\n",
    "    FEATURES = [col for col in df.columns if col != \"qty\"]\n",
    "    TARGET = \"qty\"\n",
    "    \n",
    "    X_train_cv = train_cv[FEATURES]\n",
    "    y_train_cv = train_cv[TARGET]\n",
    "    X_test_cv = test_cv[FEATURES]\n",
    "    y_test_cv = test_cv[TARGET]\n",
    "    X_holdout = holdout[FEATURES]\n",
    "    y_holdout = holdout[TARGET]\n",
    "    \n",
    "    \n",
    "    reg_cv = XGBRegressorExtended(n_estimators=1000, early_stopping_rounds=50, learning_rate=0.01)\n",
    "    reg_cv.fit(X_train_cv, y_train_cv, \n",
    "           eval_set=[(X_train_cv, y_train_cv), (X_test_cv, y_test_cv)],\n",
    "           verbose=100)\n",
    "    y_pred = reg_cv.predict_transform(X_holdout)\n",
    "    preds.append(y_pred)\n",
    "    score_rmse = np.sqrt(mean_squared_error(y_holdout, y_pred))\n",
    "    scores_rmse.append(score_rmse)\n",
    "    score_mae = mae(y_holdout, y_pred)\n",
    "    scores_mae.append(score_mae)"
   ]
  },
  {
   "cell_type": "code",
   "execution_count": null,
   "id": "2074d823",
   "metadata": {},
   "outputs": [],
   "source": [
    "scores_rmse"
   ]
  },
  {
   "cell_type": "code",
   "execution_count": null,
   "id": "84987dc8",
   "metadata": {},
   "outputs": [],
   "source": [
    "[x / holdout[\"qty\"].mean() for x in scores_mae]"
   ]
  },
  {
   "cell_type": "code",
   "execution_count": null,
   "metadata": {},
   "outputs": [],
   "source": []
  }
 ],
 "metadata": {
  "kernelspec": {
   "display_name": "Python 3",
   "language": "python",
   "name": "python3"
  },
  "language_info": {
   "codemirror_mode": {
    "name": "ipython",
    "version": 3
   },
   "file_extension": ".py",
   "mimetype": "text/x-python",
   "name": "python",
   "nbconvert_exporter": "python",
   "pygments_lexer": "ipython3",
   "version": "3.7.4"
  },
  "vscode": {
   "interpreter": {
    "hash": "44308cd4b3be5fb8889c028c4276f8163d3a1b00109b95f5d90f3f23e7618f4f"
   }
  }
 },
 "nbformat": 4,
 "nbformat_minor": 5
}
