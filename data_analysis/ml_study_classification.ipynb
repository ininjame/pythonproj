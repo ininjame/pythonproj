{
 "cells": [
  {
   "cell_type": "code",
   "execution_count": 51,
   "metadata": {},
   "outputs": [],
   "source": [
    "import pandas as pd\n",
    "import matplotlib as mpl\n",
    "from matplotlib import pyplot as plt\n",
    "import numpy as np"
   ]
  },
  {
   "cell_type": "markdown",
   "metadata": {},
   "source": [
    "# Data retrieval and cleaning"
   ]
  },
  {
   "cell_type": "code",
   "execution_count": 3,
   "metadata": {},
   "outputs": [],
   "source": [
    "df = pd.read_excel('退職予測データ.xlsx','学習データ')"
   ]
  },
  {
   "cell_type": "code",
   "execution_count": 4,
   "metadata": {},
   "outputs": [
    {
     "data": {
      "text/html": [
       "<div>\n",
       "<style scoped>\n",
       "    .dataframe tbody tr th:only-of-type {\n",
       "        vertical-align: middle;\n",
       "    }\n",
       "\n",
       "    .dataframe tbody tr th {\n",
       "        vertical-align: top;\n",
       "    }\n",
       "\n",
       "    .dataframe thead th {\n",
       "        text-align: right;\n",
       "    }\n",
       "</style>\n",
       "<table border=\"1\" class=\"dataframe\">\n",
       "  <thead>\n",
       "    <tr style=\"text-align: right;\">\n",
       "      <th></th>\n",
       "      <th>社員ID</th>\n",
       "      <th>退職FLG</th>\n",
       "      <th>部署</th>\n",
       "      <th>役職ランクCD</th>\n",
       "      <th>性別</th>\n",
       "      <th>結婚歴</th>\n",
       "      <th>年齢</th>\n",
       "      <th>雇用形態</th>\n",
       "      <th>勤続年数</th>\n",
       "      <th>勤務先</th>\n",
       "      <th>手当有無</th>\n",
       "      <th>所属子会社名</th>\n",
       "      <th>報酬制度</th>\n",
       "      <th>勤務タイプ</th>\n",
       "      <th>直近1年の残業時間</th>\n",
       "      <th>現ポジションの経過年数</th>\n",
       "    </tr>\n",
       "  </thead>\n",
       "  <tbody>\n",
       "    <tr>\n",
       "      <td>0</td>\n",
       "      <td>1</td>\n",
       "      <td>No</td>\n",
       "      <td>開発</td>\n",
       "      <td>1</td>\n",
       "      <td>男性</td>\n",
       "      <td>結婚</td>\n",
       "      <td>32</td>\n",
       "      <td>3年ごと更新</td>\n",
       "      <td>4.083333</td>\n",
       "      <td>29</td>\n",
       "      <td>あり</td>\n",
       "      <td>ホールディングス</td>\n",
       "      <td>年俸制</td>\n",
       "      <td>客先常駐</td>\n",
       "      <td>82.850</td>\n",
       "      <td>4.083333</td>\n",
       "    </tr>\n",
       "    <tr>\n",
       "      <td>1</td>\n",
       "      <td>2</td>\n",
       "      <td>No</td>\n",
       "      <td>開発</td>\n",
       "      <td>1</td>\n",
       "      <td>男性</td>\n",
       "      <td>結婚</td>\n",
       "      <td>41</td>\n",
       "      <td>正社員</td>\n",
       "      <td>2.166667</td>\n",
       "      <td>30</td>\n",
       "      <td>あり</td>\n",
       "      <td>子会社①</td>\n",
       "      <td>年俸制</td>\n",
       "      <td>本社勤務</td>\n",
       "      <td>223.929</td>\n",
       "      <td>0.666667</td>\n",
       "    </tr>\n",
       "    <tr>\n",
       "      <td>2</td>\n",
       "      <td>3</td>\n",
       "      <td>No</td>\n",
       "      <td>開発</td>\n",
       "      <td>1</td>\n",
       "      <td>女性</td>\n",
       "      <td>結婚</td>\n",
       "      <td>34</td>\n",
       "      <td>5年ごと更新</td>\n",
       "      <td>4.916667</td>\n",
       "      <td>23</td>\n",
       "      <td>無し</td>\n",
       "      <td>子会社②</td>\n",
       "      <td>年俸制</td>\n",
       "      <td>客先常駐</td>\n",
       "      <td>3.000</td>\n",
       "      <td>4.916667</td>\n",
       "    </tr>\n",
       "    <tr>\n",
       "      <td>3</td>\n",
       "      <td>4</td>\n",
       "      <td>No</td>\n",
       "      <td>開発</td>\n",
       "      <td>1</td>\n",
       "      <td>男性</td>\n",
       "      <td>独身</td>\n",
       "      <td>32</td>\n",
       "      <td>3年ごと更新</td>\n",
       "      <td>3.083333</td>\n",
       "      <td>30</td>\n",
       "      <td>無し</td>\n",
       "      <td>子会社①</td>\n",
       "      <td>年俸制</td>\n",
       "      <td>本社勤務</td>\n",
       "      <td>3.250</td>\n",
       "      <td>0.250000</td>\n",
       "    </tr>\n",
       "    <tr>\n",
       "      <td>4</td>\n",
       "      <td>5</td>\n",
       "      <td>No</td>\n",
       "      <td>開発</td>\n",
       "      <td>1</td>\n",
       "      <td>男性</td>\n",
       "      <td>結婚</td>\n",
       "      <td>29</td>\n",
       "      <td>1年ごと更新</td>\n",
       "      <td>0.500000</td>\n",
       "      <td>2</td>\n",
       "      <td>あり</td>\n",
       "      <td>子会社①</td>\n",
       "      <td>年俸制</td>\n",
       "      <td>本社勤務</td>\n",
       "      <td>0.000</td>\n",
       "      <td>0.500000</td>\n",
       "    </tr>\n",
       "  </tbody>\n",
       "</table>\n",
       "</div>"
      ],
      "text/plain": [
       "   社員ID 退職FLG  部署 役職ランクCD  性別 結婚歴  年齢    雇用形態      勤続年数  勤務先 手当有無    所属子会社名  \\\n",
       "0     1    No  開発       1  男性  結婚  32  3年ごと更新  4.083333   29   あり  ホールディングス   \n",
       "1     2    No  開発       1  男性  結婚  41     正社員  2.166667   30   あり      子会社①   \n",
       "2     3    No  開発       1  女性  結婚  34  5年ごと更新  4.916667   23   無し      子会社②   \n",
       "3     4    No  開発       1  男性  独身  32  3年ごと更新  3.083333   30   無し      子会社①   \n",
       "4     5    No  開発       1  男性  結婚  29  1年ごと更新  0.500000    2   あり      子会社①   \n",
       "\n",
       "  報酬制度 勤務タイプ  直近1年の残業時間  現ポジションの経過年数  \n",
       "0  年俸制  客先常駐     82.850     4.083333  \n",
       "1  年俸制  本社勤務    223.929     0.666667  \n",
       "2  年俸制  客先常駐      3.000     4.916667  \n",
       "3  年俸制  本社勤務      3.250     0.250000  \n",
       "4  年俸制  本社勤務      0.000     0.500000  "
      ]
     },
     "execution_count": 4,
     "metadata": {},
     "output_type": "execute_result"
    }
   ],
   "source": [
    "df.head()"
   ]
  },
  {
   "cell_type": "code",
   "execution_count": 13,
   "metadata": {},
   "outputs": [
    {
     "data": {
      "text/html": [
       "<div>\n",
       "<style scoped>\n",
       "    .dataframe tbody tr th:only-of-type {\n",
       "        vertical-align: middle;\n",
       "    }\n",
       "\n",
       "    .dataframe tbody tr th {\n",
       "        vertical-align: top;\n",
       "    }\n",
       "\n",
       "    .dataframe thead th {\n",
       "        text-align: right;\n",
       "    }\n",
       "</style>\n",
       "<table border=\"1\" class=\"dataframe\">\n",
       "  <thead>\n",
       "    <tr style=\"text-align: right;\">\n",
       "      <th></th>\n",
       "      <th>employee_id</th>\n",
       "      <th>retirement_flg</th>\n",
       "      <th>department</th>\n",
       "      <th>job_rank_cd</th>\n",
       "      <th>sex</th>\n",
       "      <th>marital_status</th>\n",
       "      <th>age</th>\n",
       "      <th>employment_status</th>\n",
       "      <th>length_of_service</th>\n",
       "      <th>workplace</th>\n",
       "      <th>allowance</th>\n",
       "      <th>affiliated_subsidiary_name</th>\n",
       "      <th>compensation_system</th>\n",
       "      <th>work_type</th>\n",
       "      <th>overtime_hours_in_the_last_year</th>\n",
       "      <th>number_of_years_in_current_position</th>\n",
       "    </tr>\n",
       "  </thead>\n",
       "  <tbody>\n",
       "    <tr>\n",
       "      <td>0</td>\n",
       "      <td>1</td>\n",
       "      <td>No</td>\n",
       "      <td>開発</td>\n",
       "      <td>1</td>\n",
       "      <td>男性</td>\n",
       "      <td>結婚</td>\n",
       "      <td>32</td>\n",
       "      <td>3年ごと更新</td>\n",
       "      <td>4.083333</td>\n",
       "      <td>29</td>\n",
       "      <td>あり</td>\n",
       "      <td>ホールディングス</td>\n",
       "      <td>年俸制</td>\n",
       "      <td>客先常駐</td>\n",
       "      <td>82.850</td>\n",
       "      <td>4.083333</td>\n",
       "    </tr>\n",
       "    <tr>\n",
       "      <td>1</td>\n",
       "      <td>2</td>\n",
       "      <td>No</td>\n",
       "      <td>開発</td>\n",
       "      <td>1</td>\n",
       "      <td>男性</td>\n",
       "      <td>結婚</td>\n",
       "      <td>41</td>\n",
       "      <td>正社員</td>\n",
       "      <td>2.166667</td>\n",
       "      <td>30</td>\n",
       "      <td>あり</td>\n",
       "      <td>子会社①</td>\n",
       "      <td>年俸制</td>\n",
       "      <td>本社勤務</td>\n",
       "      <td>223.929</td>\n",
       "      <td>0.666667</td>\n",
       "    </tr>\n",
       "    <tr>\n",
       "      <td>2</td>\n",
       "      <td>3</td>\n",
       "      <td>No</td>\n",
       "      <td>開発</td>\n",
       "      <td>1</td>\n",
       "      <td>女性</td>\n",
       "      <td>結婚</td>\n",
       "      <td>34</td>\n",
       "      <td>5年ごと更新</td>\n",
       "      <td>4.916667</td>\n",
       "      <td>23</td>\n",
       "      <td>無し</td>\n",
       "      <td>子会社②</td>\n",
       "      <td>年俸制</td>\n",
       "      <td>客先常駐</td>\n",
       "      <td>3.000</td>\n",
       "      <td>4.916667</td>\n",
       "    </tr>\n",
       "    <tr>\n",
       "      <td>3</td>\n",
       "      <td>4</td>\n",
       "      <td>No</td>\n",
       "      <td>開発</td>\n",
       "      <td>1</td>\n",
       "      <td>男性</td>\n",
       "      <td>独身</td>\n",
       "      <td>32</td>\n",
       "      <td>3年ごと更新</td>\n",
       "      <td>3.083333</td>\n",
       "      <td>30</td>\n",
       "      <td>無し</td>\n",
       "      <td>子会社①</td>\n",
       "      <td>年俸制</td>\n",
       "      <td>本社勤務</td>\n",
       "      <td>3.250</td>\n",
       "      <td>0.250000</td>\n",
       "    </tr>\n",
       "    <tr>\n",
       "      <td>4</td>\n",
       "      <td>5</td>\n",
       "      <td>No</td>\n",
       "      <td>開発</td>\n",
       "      <td>1</td>\n",
       "      <td>男性</td>\n",
       "      <td>結婚</td>\n",
       "      <td>29</td>\n",
       "      <td>1年ごと更新</td>\n",
       "      <td>0.500000</td>\n",
       "      <td>2</td>\n",
       "      <td>あり</td>\n",
       "      <td>子会社①</td>\n",
       "      <td>年俸制</td>\n",
       "      <td>本社勤務</td>\n",
       "      <td>0.000</td>\n",
       "      <td>0.500000</td>\n",
       "    </tr>\n",
       "  </tbody>\n",
       "</table>\n",
       "</div>"
      ],
      "text/plain": [
       "   employee_id retirement_flg department job_rank_cd sex marital_status  age  \\\n",
       "0            1             No         開発           1  男性             結婚   32   \n",
       "1            2             No         開発           1  男性             結婚   41   \n",
       "2            3             No         開発           1  女性             結婚   34   \n",
       "3            4             No         開発           1  男性             独身   32   \n",
       "4            5             No         開発           1  男性             結婚   29   \n",
       "\n",
       "  employment_status  length_of_service  workplace allowance  \\\n",
       "0            3年ごと更新           4.083333         29        あり   \n",
       "1               正社員           2.166667         30        あり   \n",
       "2            5年ごと更新           4.916667         23        無し   \n",
       "3            3年ごと更新           3.083333         30        無し   \n",
       "4            1年ごと更新           0.500000          2        あり   \n",
       "\n",
       "  affiliated_subsidiary_name compensation_system work_type  \\\n",
       "0                   ホールディングス                 年俸制      客先常駐   \n",
       "1                       子会社①                 年俸制      本社勤務   \n",
       "2                       子会社②                 年俸制      客先常駐   \n",
       "3                       子会社①                 年俸制      本社勤務   \n",
       "4                       子会社①                 年俸制      本社勤務   \n",
       "\n",
       "   overtime_hours_in_the_last_year  number_of_years_in_current_position  \n",
       "0                           82.850                             4.083333  \n",
       "1                          223.929                             0.666667  \n",
       "2                            3.000                             4.916667  \n",
       "3                            3.250                             0.250000  \n",
       "4                            0.000                             0.500000  "
      ]
     },
     "execution_count": 13,
     "metadata": {},
     "output_type": "execute_result"
    }
   ],
   "source": [
    "cols_eng = 'employee ID,Retirement FLG,Department,Job rank CD,sex,marital status,age,Employment status,Length of service,workplace,allowance,Affiliated subsidiary name,Compensation system,work type,Overtime hours in the last year,Number of years in current position'.split(',')\n",
    "cols_eng = [col.replace(\" \",\"_\").lower() for col in cols_eng]\n",
    "cols_jp = [col for col in df.columns]\n",
    "cols_dict = {}\n",
    "for idx, col in enumerate(cols_eng):\n",
    "    cols_dict[col] = cols_jp[idx]\n",
    "cols_dict\n",
    "df.columns = cols_eng\n",
    "df.head()\n"
   ]
  },
  {
   "cell_type": "code",
   "execution_count": 58,
   "metadata": {},
   "outputs": [
    {
     "data": {
      "text/html": [
       "<div>\n",
       "<style scoped>\n",
       "    .dataframe tbody tr th:only-of-type {\n",
       "        vertical-align: middle;\n",
       "    }\n",
       "\n",
       "    .dataframe tbody tr th {\n",
       "        vertical-align: top;\n",
       "    }\n",
       "\n",
       "    .dataframe thead th {\n",
       "        text-align: right;\n",
       "    }\n",
       "</style>\n",
       "<table border=\"1\" class=\"dataframe\">\n",
       "  <thead>\n",
       "    <tr style=\"text-align: right;\">\n",
       "      <th></th>\n",
       "      <th>retirement_flg</th>\n",
       "      <th>department</th>\n",
       "      <th>job_rank_cd</th>\n",
       "      <th>sex</th>\n",
       "      <th>marital_status</th>\n",
       "      <th>age</th>\n",
       "      <th>employment_status</th>\n",
       "      <th>length_of_service</th>\n",
       "      <th>workplace</th>\n",
       "      <th>allowance</th>\n",
       "      <th>affiliated_subsidiary_name</th>\n",
       "      <th>compensation_system</th>\n",
       "      <th>work_type</th>\n",
       "      <th>overtime_hours_in_the_last_year</th>\n",
       "      <th>number_of_years_in_current_position</th>\n",
       "    </tr>\n",
       "  </thead>\n",
       "  <tbody>\n",
       "    <tr>\n",
       "      <td>0</td>\n",
       "      <td>0</td>\n",
       "      <td>開発</td>\n",
       "      <td>1</td>\n",
       "      <td>男性</td>\n",
       "      <td>結婚</td>\n",
       "      <td>32</td>\n",
       "      <td>3年ごと更新</td>\n",
       "      <td>4.083333</td>\n",
       "      <td>29</td>\n",
       "      <td>あり</td>\n",
       "      <td>ホールディングス</td>\n",
       "      <td>年俸制</td>\n",
       "      <td>客先常駐</td>\n",
       "      <td>82.850</td>\n",
       "      <td>4.083333</td>\n",
       "    </tr>\n",
       "    <tr>\n",
       "      <td>1</td>\n",
       "      <td>0</td>\n",
       "      <td>開発</td>\n",
       "      <td>1</td>\n",
       "      <td>男性</td>\n",
       "      <td>結婚</td>\n",
       "      <td>41</td>\n",
       "      <td>正社員</td>\n",
       "      <td>2.166667</td>\n",
       "      <td>30</td>\n",
       "      <td>あり</td>\n",
       "      <td>子会社①</td>\n",
       "      <td>年俸制</td>\n",
       "      <td>本社勤務</td>\n",
       "      <td>223.929</td>\n",
       "      <td>0.666667</td>\n",
       "    </tr>\n",
       "    <tr>\n",
       "      <td>2</td>\n",
       "      <td>0</td>\n",
       "      <td>開発</td>\n",
       "      <td>1</td>\n",
       "      <td>女性</td>\n",
       "      <td>結婚</td>\n",
       "      <td>34</td>\n",
       "      <td>5年ごと更新</td>\n",
       "      <td>4.916667</td>\n",
       "      <td>23</td>\n",
       "      <td>無し</td>\n",
       "      <td>子会社②</td>\n",
       "      <td>年俸制</td>\n",
       "      <td>客先常駐</td>\n",
       "      <td>3.000</td>\n",
       "      <td>4.916667</td>\n",
       "    </tr>\n",
       "    <tr>\n",
       "      <td>3</td>\n",
       "      <td>0</td>\n",
       "      <td>開発</td>\n",
       "      <td>1</td>\n",
       "      <td>男性</td>\n",
       "      <td>独身</td>\n",
       "      <td>32</td>\n",
       "      <td>3年ごと更新</td>\n",
       "      <td>3.083333</td>\n",
       "      <td>30</td>\n",
       "      <td>無し</td>\n",
       "      <td>子会社①</td>\n",
       "      <td>年俸制</td>\n",
       "      <td>本社勤務</td>\n",
       "      <td>3.250</td>\n",
       "      <td>0.250000</td>\n",
       "    </tr>\n",
       "    <tr>\n",
       "      <td>4</td>\n",
       "      <td>0</td>\n",
       "      <td>開発</td>\n",
       "      <td>1</td>\n",
       "      <td>男性</td>\n",
       "      <td>結婚</td>\n",
       "      <td>29</td>\n",
       "      <td>1年ごと更新</td>\n",
       "      <td>0.500000</td>\n",
       "      <td>2</td>\n",
       "      <td>あり</td>\n",
       "      <td>子会社①</td>\n",
       "      <td>年俸制</td>\n",
       "      <td>本社勤務</td>\n",
       "      <td>0.000</td>\n",
       "      <td>0.500000</td>\n",
       "    </tr>\n",
       "  </tbody>\n",
       "</table>\n",
       "</div>"
      ],
      "text/plain": [
       "   retirement_flg department job_rank_cd sex marital_status  age  \\\n",
       "0               0         開発           1  男性             結婚   32   \n",
       "1               0         開発           1  男性             結婚   41   \n",
       "2               0         開発           1  女性             結婚   34   \n",
       "3               0         開発           1  男性             独身   32   \n",
       "4               0         開発           1  男性             結婚   29   \n",
       "\n",
       "  employment_status  length_of_service  workplace allowance  \\\n",
       "0            3年ごと更新           4.083333         29        あり   \n",
       "1               正社員           2.166667         30        あり   \n",
       "2            5年ごと更新           4.916667         23        無し   \n",
       "3            3年ごと更新           3.083333         30        無し   \n",
       "4            1年ごと更新           0.500000          2        あり   \n",
       "\n",
       "  affiliated_subsidiary_name compensation_system work_type  \\\n",
       "0                   ホールディングス                 年俸制      客先常駐   \n",
       "1                       子会社①                 年俸制      本社勤務   \n",
       "2                       子会社②                 年俸制      客先常駐   \n",
       "3                       子会社①                 年俸制      本社勤務   \n",
       "4                       子会社①                 年俸制      本社勤務   \n",
       "\n",
       "   overtime_hours_in_the_last_year  number_of_years_in_current_position  \n",
       "0                           82.850                             4.083333  \n",
       "1                          223.929                             0.666667  \n",
       "2                            3.000                             4.916667  \n",
       "3                            3.250                             0.250000  \n",
       "4                            0.000                             0.500000  "
      ]
     },
     "execution_count": 58,
     "metadata": {},
     "output_type": "execute_result"
    }
   ],
   "source": [
    "cols_to_drop = ['employee_id']\n",
    "df = df[[col for col in df.columns if col not in cols_to_drop]].copy()\n",
    "df.head()"
   ]
  },
  {
   "cell_type": "code",
   "execution_count": 21,
   "metadata": {},
   "outputs": [],
   "source": [
    "df.retirement_flg = df.retirement_flg.apply(lambda x: 1 if x=='Yes' else 0)"
   ]
  },
  {
   "cell_type": "markdown",
   "metadata": {},
   "source": [
    "# EDA"
   ]
  },
  {
   "cell_type": "markdown",
   "metadata": {},
   "source": [
    "## Potential Questions:  \n",
    "1. How many years until a certain employee retire?\n",
    "2. What is the probability that a certain employee will retire in X year?\n",
    "3. What are the contributing factors to retirement?"
   ]
  },
  {
   "cell_type": "code",
   "execution_count": 23,
   "metadata": {},
   "outputs": [
    {
     "data": {
      "text/plain": [
       "開発         1504\n",
       "営業          106\n",
       "バックオフィス      85\n",
       "Name: department, dtype: int64"
      ]
     },
     "execution_count": 23,
     "metadata": {},
     "output_type": "execute_result"
    }
   ],
   "source": [
    "df.department.value_counts()"
   ]
  },
  {
   "cell_type": "code",
   "execution_count": 41,
   "metadata": {},
   "outputs": [],
   "source": [
    "def bar_chart(col_name, bar_w=2, graph_h=7):\n",
    "    count = df[col_name].value_counts()\n",
    "    x_labels = [val for val in count.index]\n",
    "    fig, ax = plt.subplots(figsize=(len(x_labels)*bar_w, graph_h))\n",
    "    ax.bar(count.index, count.values)\n",
    "    ax.set_xticklabels(x_labels, fontname='MS Gothic')\n",
    "    plt.show()"
   ]
  },
  {
   "cell_type": "code",
   "execution_count": 38,
   "metadata": {},
   "outputs": [
    {
     "data": {
      "image/png": "[encoded data removed]",
      "text/plain": [
       "<Figure size 1008x504 with 1 Axes>"
      ]
     },
     "metadata": {
      "needs_background": "light"
     },
     "output_type": "display_data"
    }
   ],
   "source": [
    "bar_chart('employment_status',2,7)"
   ]
  },
  {
   "cell_type": "code",
   "execution_count": 42,
   "metadata": {},
   "outputs": [
    {
     "data": {
      "image/png": "[encoded data removed]",
      "text/plain": [
       "<Figure size 288x504 with 1 Axes>"
      ]
     },
     "metadata": {
      "needs_background": "light"
     },
     "output_type": "display_data"
    }
   ],
   "source": [
    "bar_chart('marital_status')"
   ]
  },
  {
   "cell_type": "code",
   "execution_count": 59,
   "metadata": {},
   "outputs": [
    {
     "data": {
      "text/plain": [
       "['department',\n",
       " 'job_rank_cd',\n",
       " 'sex',\n",
       " 'marital_status',\n",
       " 'employment_status',\n",
       " 'allowance',\n",
       " 'affiliated_subsidiary_name',\n",
       " 'compensation_system',\n",
       " 'work_type']"
      ]
     },
     "execution_count": 59,
     "metadata": {},
     "output_type": "execute_result"
    }
   ],
   "source": [
    "TARGET = 'retirement_flg'\n",
    "FEATURES = [col for col in df.columns if col != TARGET]\n",
    "\n",
    "num_cols = [col for col in FEATURES if df[col].dtype != object]\n",
    "cat_cols = [col for col in FEATURES if col not in num_cols]\n",
    "\n",
    "cat_cols"
   ]
  },
  {
   "cell_type": "code",
   "execution_count": 68,
   "metadata": {},
   "outputs": [
    {
     "data": {
      "text/plain": [
       "array(['開発', 'バックオフィス', '営業'], dtype=object)"
      ]
     },
     "execution_count": 68,
     "metadata": {},
     "output_type": "execute_result"
    }
   ],
   "source": [
    "df[df.retirement_flg==0].department.unique()"
   ]
  },
  {
   "cell_type": "code",
   "execution_count": 97,
   "metadata": {},
   "outputs": [],
   "source": [
    "def multi_bar_chart(col, bar_w, graph_h, type='grouped'):\n",
    "    labels = [val for val in df[col].value_counts().index]\n",
    "    retired = df[df.retirement_flg==1][col].value_counts().values\n",
    "    not_retired = df[df.retirement_flg==0][col].value_counts().values\n",
    "\n",
    "    x = np.arange(len(labels))  # the label locations\n",
    "    width = bar_w  # the width of the bars\n",
    "\n",
    "    fig, ax = plt.subplots(figsize=(len(labels)*1.5, graph_h))\n",
    "    if type=='grouped':\n",
    "        rects1 = ax.bar(x - width/2, retired, width, label='Retired')\n",
    "        rects2 = ax.bar(x + width/2, not_retired, width, label='Not Retired')\n",
    "    if type=='stacked':\n",
    "        rects1 = ax.bar(x, retired, width, label='Retired')\n",
    "        rects2 = ax.bar(x, not_retired, width, bottom=retired, label='Not Retired')\n",
    "\n",
    "    # Add some text for labels, title and custom x-axis tick labels, etc.\n",
    "    ax.set_ylabel('Count')\n",
    "    ax.set_title(f'Count retired and not-retired by {col}')\n",
    "    ax.set_xticks(x)\n",
    "    ax.set_xticklabels(labels, fontname='MS Gothic')\n",
    "    ax.legend()\n",
    "\n",
    "    # ax.bar_label(rects1, padding=3)\n",
    "    # ax.bar_label(rects2, padding=3)\n",
    "\n",
    "    fig.tight_layout()\n",
    "\n",
    "    plt.show()"
   ]
  },
  {
   "cell_type": "code",
   "execution_count": 98,
   "metadata": {},
   "outputs": [
    {
     "data": {
      "image/png": "[encoded data removed]",
      "text/plain": [
       "<Figure size 756x504 with 1 Axes>"
      ]
     },
     "metadata": {
      "needs_background": "light"
     },
     "output_type": "display_data"
    }
   ],
   "source": [
    "multi_bar_chart('employment_status',0.35, 7, \"stacked\")"
   ]
  },
  {
   "cell_type": "code",
   "execution_count": 108,
   "metadata": {},
   "outputs": [
    {
     "name": "stdout",
     "output_type": "stream",
     "text": [
      "Median\n",
      "retirement_flg\n",
      "0    1.458333\n",
      "1    1.250000\n",
      "Name: number_of_years_in_current_position, dtype: float64\n",
      "Mean\n",
      "retirement_flg\n",
      "0    2.591527\n",
      "1    2.793103\n",
      "Name: number_of_years_in_current_position, dtype: float64\n"
     ]
    }
   ],
   "source": [
    "print('Median')\n",
    "print(df.groupby('retirement_flg')['number_of_years_in_current_position'].median())\n",
    "print('Mean')\n",
    "print(df.groupby('retirement_flg')['number_of_years_in_current_position'].mean())"
   ]
  },
  {
   "cell_type": "code",
   "execution_count": null,
   "metadata": {},
   "outputs": [],
   "source": [
    "#TODO:\n",
    "# Create new feature: years from contract renewal based on employment status and year in current position\n",
    "# Create past version of people as new data points"
   ]
  },
  {
   "cell_type": "markdown",
   "metadata": {},
   "source": []
  },
  {
   "cell_type": "markdown",
   "metadata": {},
   "source": []
  }
 ],
 "metadata": {
  "kernelspec": {
   "display_name": "Python 3.7.4 ('base')",
   "language": "python",
   "name": "python3"
  },
  "language_info": {
   "codemirror_mode": {
    "name": "ipython",
    "version": 3
   },
   "file_extension": ".py",
   "mimetype": "text/x-python",
   "name": "python",
   "nbconvert_exporter": "python",
   "pygments_lexer": "ipython3",
   "version": "3.7.4"
  },
  "orig_nbformat": 4,
  "vscode": {
   "interpreter": {
    "hash": "44308cd4b3be5fb8889c028c4276f8163d3a1b00109b95f5d90f3f23e7618f4f"
   }
  }
 },
 "nbformat": 4,
 "nbformat_minor": 2
}
